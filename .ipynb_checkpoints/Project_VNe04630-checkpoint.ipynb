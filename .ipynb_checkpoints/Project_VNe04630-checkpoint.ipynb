{
 "cells": [
  {
   "cell_type": "markdown",
   "metadata": {},
   "source": [
    "<h1>CSIS_3290_Term Project</h1>\n",
    "<h2>Project - White Wine Quality Prediction</h2>\n",
    "<h3>Name : Vinod Kumar Nethi Chinna</h3>\n",
    "<h3>Student_ID : 300304630</h3>\n"
   ]
  },
  {
   "cell_type": "markdown",
   "metadata": {},
   "source": [
    "# Introduction \n",
    "\n",
    "This project is about predicting the quality of wine. dataset is downloaded from the link \n",
    "https://www.kaggle.com/maitree/wine-quality-selection. This data set contains 11 features of wine namely\n",
    "(fixed_acidity', 'volatile_acidity', 'citric_acid', 'residual_sugar', 'chlorides', 'free_sulfur_dioxide', \n",
    " 'total_sulfur_dioxide', 'density', 'pH', 'sulphates', 'alcohol', 'quality).\n",
    " \n",
    "Quality is the target column and rest all attributes can be treated as features. Based on the values of feature columns we will\n",
    "build Machine Learning classification model to predict the quality of wine.\n",
    " \n",
    "# uses of this project.\n",
    " \n",
    " - This model can determine the quality of wine based on various attributes.\n",
    " - This will help restaurants and lounges to decide best quality wine among various options available in market.\n",
    " - Maintaining high quality wine collection will sure attract customers and business can be developed for restaurants and hotels.\n",
    " - This will help individual who drinks wine a lot and looking for better wines to choose high quality wine. \n",
    " - Wine Manufacturers can decide what effects their wine quality and necessary steps can be taken to ensure the quality \n",
    "   and achieve customer satisfaction.\n",
    " - Price can be determined based on quality by wine manufacturer and sellers.\n",
    " \n",
    "# summary of code development.\n",
    " \n",
    " Changes have been done to data (i.e data is not evenly distributed among target classes,so classes with low records are \n",
    " merged with other classes. initially we have 7 categories after modification we have 5 classes now.)\n",
    " \n",
    " variance threshold feature selection method is used.Pipeline is used for scaling the features and fit the training data to \n",
    " model.Model which gives best accuracy is selected and test data is predicted. Scaling the features dont improve model always.\n",
    " model can perform better without scaling also. i have tested both ways(with & without scaling) and observed similar accuracy of\n",
    " models. after choosing the model with higher accuracy (i,e XGB Classifier) i used RandomizedSearchCV to find out the best \n",
    " hyper parameters and tuned the model for better accuracy.(if we increase the estimators or further tune the parameters ,data   is overfitting so after trying all combinations best parameters are taken). once we have tuned model then we will predict the test dataset and observed various metrics like confusion matrix and classification report. finally out of sample predictions are predicted with model.\n",
    " \n",
    " \n",
    "# References\n",
    "     XGBoost - https://dataaspirant.com/xgboost-algorithm/ \n",
    "     Class lectures, Labs\n",
    "     \n",
    "     \n",
    " \n",
    " "
   ]
  },
  {
   "cell_type": "code",
   "execution_count": 1,
   "metadata": {},
   "outputs": [],
   "source": [
    "#Importing required libraries.\n",
    "\n",
    "import pandas as pd\n",
    "\n",
    "from sklearn.model_selection import train_test_split\n",
    "from sklearn.pipeline import Pipeline\n",
    "from sklearn.linear_model import LogisticRegression\n",
    "from sklearn.neighbors import KNeighborsClassifier\n",
    "from sklearn.tree import DecisionTreeClassifier\n",
    "from sklearn.naive_bayes import GaussianNB\n",
    "from sklearn.metrics import accuracy_score, log_loss\n",
    "from sklearn.ensemble import RandomForestClassifier, BaggingClassifier, AdaBoostClassifier\n",
    "from xgboost import XGBClassifier\n",
    "from sklearn.feature_selection import VarianceThreshold\n",
    "from sklearn.preprocessing import StandardScaler\n",
    "from sklearn.metrics import mean_squared_error, r2_score\n",
    "from sklearn.metrics import classification_report, confusion_matrix, accuracy_score\n",
    "from sklearn.neural_network import MLPClassifier\n",
    "from sklearn.model_selection import RandomizedSearchCV\n",
    "\n",
    "import xgboost\n",
    "import seaborn as sns\n",
    "import matplotlib.pyplot as plt\n",
    "%matplotlib inline\n",
    "import numpy as np"
   ]
  },
  {
   "cell_type": "code",
   "execution_count": 2,
   "metadata": {},
   "outputs": [],
   "source": [
    "#Reading the input data, for easy access data files are stored in git and accessed here.\n",
    "\n",
    "data = pd.read_csv('https://raw.githubusercontent.com/vinodnethichinna/MachineLearning_CSIS3290/master/TermProject_DataFiles/winequality-white.csv')\n",
    "\n"
   ]
  },
  {
   "cell_type": "code",
   "execution_count": 3,
   "metadata": {},
   "outputs": [
    {
     "data": {
      "text/plain": [
       "(4898, 12)"
      ]
     },
     "execution_count": 3,
     "metadata": {},
     "output_type": "execute_result"
    }
   ],
   "source": [
    "# using shape to determine number of rows and columns.\n",
    "    \n",
    "data.shape"
   ]
  },
  {
   "cell_type": "code",
   "execution_count": 4,
   "metadata": {},
   "outputs": [
    {
     "data": {
      "text/html": [
       "<div>\n",
       "<style scoped>\n",
       "    .dataframe tbody tr th:only-of-type {\n",
       "        vertical-align: middle;\n",
       "    }\n",
       "\n",
       "    .dataframe tbody tr th {\n",
       "        vertical-align: top;\n",
       "    }\n",
       "\n",
       "    .dataframe thead th {\n",
       "        text-align: right;\n",
       "    }\n",
       "</style>\n",
       "<table border=\"1\" class=\"dataframe\">\n",
       "  <thead>\n",
       "    <tr style=\"text-align: right;\">\n",
       "      <th></th>\n",
       "      <th>fixed acidity</th>\n",
       "      <th>volatile acidity</th>\n",
       "      <th>citric acid</th>\n",
       "      <th>residual sugar</th>\n",
       "      <th>chlorides</th>\n",
       "      <th>free sulfur dioxide</th>\n",
       "      <th>total sulfur dioxide</th>\n",
       "      <th>density</th>\n",
       "      <th>pH</th>\n",
       "      <th>sulphates</th>\n",
       "      <th>alcohol</th>\n",
       "      <th>quality</th>\n",
       "    </tr>\n",
       "  </thead>\n",
       "  <tbody>\n",
       "    <tr>\n",
       "      <th>0</th>\n",
       "      <td>7.0</td>\n",
       "      <td>0.27</td>\n",
       "      <td>0.36</td>\n",
       "      <td>20.7</td>\n",
       "      <td>0.045</td>\n",
       "      <td>45.0</td>\n",
       "      <td>170.0</td>\n",
       "      <td>1.0010</td>\n",
       "      <td>3.00</td>\n",
       "      <td>0.45</td>\n",
       "      <td>8.8</td>\n",
       "      <td>6</td>\n",
       "    </tr>\n",
       "    <tr>\n",
       "      <th>1</th>\n",
       "      <td>6.3</td>\n",
       "      <td>0.30</td>\n",
       "      <td>0.34</td>\n",
       "      <td>1.6</td>\n",
       "      <td>0.049</td>\n",
       "      <td>14.0</td>\n",
       "      <td>132.0</td>\n",
       "      <td>0.9940</td>\n",
       "      <td>3.30</td>\n",
       "      <td>0.49</td>\n",
       "      <td>9.5</td>\n",
       "      <td>6</td>\n",
       "    </tr>\n",
       "    <tr>\n",
       "      <th>2</th>\n",
       "      <td>8.1</td>\n",
       "      <td>0.28</td>\n",
       "      <td>0.40</td>\n",
       "      <td>6.9</td>\n",
       "      <td>0.050</td>\n",
       "      <td>30.0</td>\n",
       "      <td>97.0</td>\n",
       "      <td>0.9951</td>\n",
       "      <td>3.26</td>\n",
       "      <td>0.44</td>\n",
       "      <td>10.1</td>\n",
       "      <td>6</td>\n",
       "    </tr>\n",
       "    <tr>\n",
       "      <th>3</th>\n",
       "      <td>7.2</td>\n",
       "      <td>0.23</td>\n",
       "      <td>0.32</td>\n",
       "      <td>8.5</td>\n",
       "      <td>0.058</td>\n",
       "      <td>47.0</td>\n",
       "      <td>186.0</td>\n",
       "      <td>0.9956</td>\n",
       "      <td>3.19</td>\n",
       "      <td>0.40</td>\n",
       "      <td>9.9</td>\n",
       "      <td>6</td>\n",
       "    </tr>\n",
       "    <tr>\n",
       "      <th>4</th>\n",
       "      <td>7.2</td>\n",
       "      <td>0.23</td>\n",
       "      <td>0.32</td>\n",
       "      <td>8.5</td>\n",
       "      <td>0.058</td>\n",
       "      <td>47.0</td>\n",
       "      <td>186.0</td>\n",
       "      <td>0.9956</td>\n",
       "      <td>3.19</td>\n",
       "      <td>0.40</td>\n",
       "      <td>9.9</td>\n",
       "      <td>6</td>\n",
       "    </tr>\n",
       "  </tbody>\n",
       "</table>\n",
       "</div>"
      ],
      "text/plain": [
       "   fixed acidity  volatile acidity  citric acid  residual sugar  chlorides  \\\n",
       "0            7.0              0.27         0.36            20.7      0.045   \n",
       "1            6.3              0.30         0.34             1.6      0.049   \n",
       "2            8.1              0.28         0.40             6.9      0.050   \n",
       "3            7.2              0.23         0.32             8.5      0.058   \n",
       "4            7.2              0.23         0.32             8.5      0.058   \n",
       "\n",
       "   free sulfur dioxide  total sulfur dioxide  density    pH  sulphates  \\\n",
       "0                 45.0                 170.0   1.0010  3.00       0.45   \n",
       "1                 14.0                 132.0   0.9940  3.30       0.49   \n",
       "2                 30.0                  97.0   0.9951  3.26       0.44   \n",
       "3                 47.0                 186.0   0.9956  3.19       0.40   \n",
       "4                 47.0                 186.0   0.9956  3.19       0.40   \n",
       "\n",
       "   alcohol  quality  \n",
       "0      8.8        6  \n",
       "1      9.5        6  \n",
       "2     10.1        6  \n",
       "3      9.9        6  \n",
       "4      9.9        6  "
      ]
     },
     "execution_count": 4,
     "metadata": {},
     "output_type": "execute_result"
    }
   ],
   "source": [
    "#peeking at the data.\n",
    "\n",
    "data.head(5)"
   ]
  },
  {
   "cell_type": "code",
   "execution_count": 5,
   "metadata": {},
   "outputs": [
    {
     "name": "stdout",
     "output_type": "stream",
     "text": [
      "<class 'pandas.core.frame.DataFrame'>\n",
      "RangeIndex: 4898 entries, 0 to 4897\n",
      "Data columns (total 12 columns):\n",
      " #   Column                Non-Null Count  Dtype  \n",
      "---  ------                --------------  -----  \n",
      " 0   fixed acidity         4898 non-null   float64\n",
      " 1   volatile acidity      4898 non-null   float64\n",
      " 2   citric acid           4898 non-null   float64\n",
      " 3   residual sugar        4898 non-null   float64\n",
      " 4   chlorides             4898 non-null   float64\n",
      " 5   free sulfur dioxide   4898 non-null   float64\n",
      " 6   total sulfur dioxide  4898 non-null   float64\n",
      " 7   density               4898 non-null   float64\n",
      " 8   pH                    4898 non-null   float64\n",
      " 9   sulphates             4898 non-null   float64\n",
      " 10  alcohol               4898 non-null   float64\n",
      " 11  quality               4898 non-null   int64  \n",
      "dtypes: float64(11), int64(1)\n",
      "memory usage: 459.3 KB\n"
     ]
    }
   ],
   "source": [
    "#check for null values if any.\n",
    "data.info()"
   ]
  },
  {
   "cell_type": "code",
   "execution_count": 6,
   "metadata": {
    "scrolled": true
   },
   "outputs": [
    {
     "data": {
      "text/plain": [
       "6    2198\n",
       "5    1457\n",
       "7     880\n",
       "8     175\n",
       "4     163\n",
       "3      20\n",
       "9       5\n",
       "Name: quality, dtype: int64"
      ]
     },
     "execution_count": 6,
     "metadata": {},
     "output_type": "execute_result"
    }
   ],
   "source": [
    "#checking the dataset is biased or not.\n",
    "\n",
    "data.quality.value_counts()"
   ]
  },
  {
   "cell_type": "code",
   "execution_count": 7,
   "metadata": {},
   "outputs": [],
   "source": [
    "# data is biased and not evenly distributed so changing the labels of dataset as below. \n",
    "# data with label 3 is modified as 4 and data with 9 is modified as 8.\n",
    "\n",
    "data[\"quality\"].replace({3 : 4 , 9 : 8}, inplace=True)"
   ]
  },
  {
   "cell_type": "code",
   "execution_count": 8,
   "metadata": {},
   "outputs": [
    {
     "data": {
      "text/plain": [
       "6    2198\n",
       "5    1457\n",
       "7     880\n",
       "4     183\n",
       "8     180\n",
       "Name: quality, dtype: int64"
      ]
     },
     "execution_count": 8,
     "metadata": {},
     "output_type": "execute_result"
    }
   ],
   "source": [
    "# Checking the count after modification.\n",
    "\n",
    "data.quality.value_counts()"
   ]
  },
  {
   "cell_type": "code",
   "execution_count": 9,
   "metadata": {},
   "outputs": [
    {
     "data": {
      "text/plain": [
       "Text(0, 0.5, 'Target Class')"
      ]
     },
     "execution_count": 9,
     "metadata": {},
     "output_type": "execute_result"
    },
    {
     "data": {
      "image/png": "[encoded data removed]",
      "text/plain": [
       "<Figure size 432x288 with 1 Axes>"
      ]
     },
     "metadata": {
      "needs_background": "light"
     },
     "output_type": "display_data"
    }
   ],
   "source": [
    "# bar chart showing how many records per category\n",
    "\n",
    "\n",
    "plt = data['quality'].value_counts().plot(kind='barh')\n",
    "plt.set_title(\"Frequency Counts\")\n",
    "plt.set_xlabel(\"Count\")\n",
    "plt.set_ylabel(\"Target Class\")\n"
   ]
  },
  {
   "cell_type": "markdown",
   "metadata": {},
   "source": [
    "By observing the above chart we can conclude most of data is falling in class 6 category. class 4 & 8 has very less number of\n",
    "records. this may effect our prediction and this data is biased."
   ]
  },
  {
   "cell_type": "code",
   "execution_count": 10,
   "metadata": {},
   "outputs": [
    {
     "data": {
      "text/plain": [
       "Index(['fixed acidity', 'volatile acidity', 'citric acid', 'residual sugar',\n",
       "       'chlorides', 'free sulfur dioxide', 'total sulfur dioxide', 'density',\n",
       "       'pH', 'sulphates', 'alcohol', 'quality'],\n",
       "      dtype='object')"
      ]
     },
     "execution_count": 10,
     "metadata": {},
     "output_type": "execute_result"
    }
   ],
   "source": [
    "# looking at columns of data.\n",
    "\n",
    "data.columns"
   ]
  },
  {
   "cell_type": "code",
   "execution_count": 11,
   "metadata": {},
   "outputs": [],
   "source": [
    "#Changing column names into standard format.\n",
    "\n",
    "data.rename(columns = {\n",
    "                            'fixed acidity' : 'fixed_acidity',\n",
    "                            'volatile acidity' : 'volatile_acidity',\n",
    "                            'citric acid' : 'citric_acid',                            \n",
    "                            'residual sugar'  : 'residual_sugar',\n",
    "                            'free sulfur dioxide' : 'free_sulfur_dioxide',\n",
    "                            'total sulfur dioxide' : 'total_sulfur_dioxide'\n",
    "                          },inplace = True)"
   ]
  },
  {
   "cell_type": "code",
   "execution_count": 12,
   "metadata": {},
   "outputs": [
    {
     "data": {
      "text/html": [
       "<div>\n",
       "<style scoped>\n",
       "    .dataframe tbody tr th:only-of-type {\n",
       "        vertical-align: middle;\n",
       "    }\n",
       "\n",
       "    .dataframe tbody tr th {\n",
       "        vertical-align: top;\n",
       "    }\n",
       "\n",
       "    .dataframe thead th {\n",
       "        text-align: right;\n",
       "    }\n",
       "</style>\n",
       "<table border=\"1\" class=\"dataframe\">\n",
       "  <thead>\n",
       "    <tr style=\"text-align: right;\">\n",
       "      <th></th>\n",
       "      <th>fixed_acidity</th>\n",
       "      <th>volatile_acidity</th>\n",
       "      <th>citric_acid</th>\n",
       "      <th>residual_sugar</th>\n",
       "      <th>chlorides</th>\n",
       "      <th>free_sulfur_dioxide</th>\n",
       "      <th>total_sulfur_dioxide</th>\n",
       "      <th>density</th>\n",
       "      <th>pH</th>\n",
       "      <th>sulphates</th>\n",
       "      <th>alcohol</th>\n",
       "      <th>quality</th>\n",
       "    </tr>\n",
       "  </thead>\n",
       "  <tbody>\n",
       "    <tr>\n",
       "      <th>count</th>\n",
       "      <td>4898.000000</td>\n",
       "      <td>4898.000000</td>\n",
       "      <td>4898.000000</td>\n",
       "      <td>4898.000000</td>\n",
       "      <td>4898.000000</td>\n",
       "      <td>4898.000000</td>\n",
       "      <td>4898.000000</td>\n",
       "      <td>4898.000000</td>\n",
       "      <td>4898.000000</td>\n",
       "      <td>4898.000000</td>\n",
       "      <td>4898.000000</td>\n",
       "      <td>4898.000000</td>\n",
       "    </tr>\n",
       "    <tr>\n",
       "      <th>mean</th>\n",
       "      <td>6.854788</td>\n",
       "      <td>0.278241</td>\n",
       "      <td>0.334192</td>\n",
       "      <td>6.391415</td>\n",
       "      <td>0.045772</td>\n",
       "      <td>35.308085</td>\n",
       "      <td>138.360657</td>\n",
       "      <td>0.994027</td>\n",
       "      <td>3.188267</td>\n",
       "      <td>0.489847</td>\n",
       "      <td>10.514267</td>\n",
       "      <td>5.880972</td>\n",
       "    </tr>\n",
       "    <tr>\n",
       "      <th>std</th>\n",
       "      <td>0.843868</td>\n",
       "      <td>0.100795</td>\n",
       "      <td>0.121020</td>\n",
       "      <td>5.072058</td>\n",
       "      <td>0.021848</td>\n",
       "      <td>17.007137</td>\n",
       "      <td>42.498065</td>\n",
       "      <td>0.002991</td>\n",
       "      <td>0.151001</td>\n",
       "      <td>0.114126</td>\n",
       "      <td>1.230621</td>\n",
       "      <td>0.871532</td>\n",
       "    </tr>\n",
       "    <tr>\n",
       "      <th>min</th>\n",
       "      <td>3.800000</td>\n",
       "      <td>0.080000</td>\n",
       "      <td>0.000000</td>\n",
       "      <td>0.600000</td>\n",
       "      <td>0.009000</td>\n",
       "      <td>2.000000</td>\n",
       "      <td>9.000000</td>\n",
       "      <td>0.987110</td>\n",
       "      <td>2.720000</td>\n",
       "      <td>0.220000</td>\n",
       "      <td>8.000000</td>\n",
       "      <td>4.000000</td>\n",
       "    </tr>\n",
       "    <tr>\n",
       "      <th>25%</th>\n",
       "      <td>6.300000</td>\n",
       "      <td>0.210000</td>\n",
       "      <td>0.270000</td>\n",
       "      <td>1.700000</td>\n",
       "      <td>0.036000</td>\n",
       "      <td>23.000000</td>\n",
       "      <td>108.000000</td>\n",
       "      <td>0.991723</td>\n",
       "      <td>3.090000</td>\n",
       "      <td>0.410000</td>\n",
       "      <td>9.500000</td>\n",
       "      <td>5.000000</td>\n",
       "    </tr>\n",
       "    <tr>\n",
       "      <th>50%</th>\n",
       "      <td>6.800000</td>\n",
       "      <td>0.260000</td>\n",
       "      <td>0.320000</td>\n",
       "      <td>5.200000</td>\n",
       "      <td>0.043000</td>\n",
       "      <td>34.000000</td>\n",
       "      <td>134.000000</td>\n",
       "      <td>0.993740</td>\n",
       "      <td>3.180000</td>\n",
       "      <td>0.470000</td>\n",
       "      <td>10.400000</td>\n",
       "      <td>6.000000</td>\n",
       "    </tr>\n",
       "    <tr>\n",
       "      <th>75%</th>\n",
       "      <td>7.300000</td>\n",
       "      <td>0.320000</td>\n",
       "      <td>0.390000</td>\n",
       "      <td>9.900000</td>\n",
       "      <td>0.050000</td>\n",
       "      <td>46.000000</td>\n",
       "      <td>167.000000</td>\n",
       "      <td>0.996100</td>\n",
       "      <td>3.280000</td>\n",
       "      <td>0.550000</td>\n",
       "      <td>11.400000</td>\n",
       "      <td>6.000000</td>\n",
       "    </tr>\n",
       "    <tr>\n",
       "      <th>max</th>\n",
       "      <td>14.200000</td>\n",
       "      <td>1.100000</td>\n",
       "      <td>1.660000</td>\n",
       "      <td>65.800000</td>\n",
       "      <td>0.346000</td>\n",
       "      <td>289.000000</td>\n",
       "      <td>440.000000</td>\n",
       "      <td>1.038980</td>\n",
       "      <td>3.820000</td>\n",
       "      <td>1.080000</td>\n",
       "      <td>14.200000</td>\n",
       "      <td>8.000000</td>\n",
       "    </tr>\n",
       "  </tbody>\n",
       "</table>\n",
       "</div>"
      ],
      "text/plain": [
       "       fixed_acidity  volatile_acidity  citric_acid  residual_sugar  \\\n",
       "count    4898.000000       4898.000000  4898.000000     4898.000000   \n",
       "mean        6.854788          0.278241     0.334192        6.391415   \n",
       "std         0.843868          0.100795     0.121020        5.072058   \n",
       "min         3.800000          0.080000     0.000000        0.600000   \n",
       "25%         6.300000          0.210000     0.270000        1.700000   \n",
       "50%         6.800000          0.260000     0.320000        5.200000   \n",
       "75%         7.300000          0.320000     0.390000        9.900000   \n",
       "max        14.200000          1.100000     1.660000       65.800000   \n",
       "\n",
       "         chlorides  free_sulfur_dioxide  total_sulfur_dioxide      density  \\\n",
       "count  4898.000000          4898.000000           4898.000000  4898.000000   \n",
       "mean      0.045772            35.308085            138.360657     0.994027   \n",
       "std       0.021848            17.007137             42.498065     0.002991   \n",
       "min       0.009000             2.000000              9.000000     0.987110   \n",
       "25%       0.036000            23.000000            108.000000     0.991723   \n",
       "50%       0.043000            34.000000            134.000000     0.993740   \n",
       "75%       0.050000            46.000000            167.000000     0.996100   \n",
       "max       0.346000           289.000000            440.000000     1.038980   \n",
       "\n",
       "                pH    sulphates      alcohol      quality  \n",
       "count  4898.000000  4898.000000  4898.000000  4898.000000  \n",
       "mean      3.188267     0.489847    10.514267     5.880972  \n",
       "std       0.151001     0.114126     1.230621     0.871532  \n",
       "min       2.720000     0.220000     8.000000     4.000000  \n",
       "25%       3.090000     0.410000     9.500000     5.000000  \n",
       "50%       3.180000     0.470000    10.400000     6.000000  \n",
       "75%       3.280000     0.550000    11.400000     6.000000  \n",
       "max       3.820000     1.080000    14.200000     8.000000  "
      ]
     },
     "execution_count": 12,
     "metadata": {},
     "output_type": "execute_result"
    }
   ],
   "source": [
    "# Descriptive statistics of our dataset.\n",
    "\n",
    "data.describe()"
   ]
  },
  {
   "cell_type": "code",
   "execution_count": 13,
   "metadata": {},
   "outputs": [],
   "source": [
    "\n",
    "# Checking for outliers and dropping those columns.\n",
    "# below are the outliers conditions, we are dropping them because they may effect our model.\n",
    "\n",
    "data.drop(data.loc[data['fixed_acidity'] >14].index,inplace = True)\n",
    "data.drop(data.loc[data['residual_sugar'] >40].index,inplace = True)"
   ]
  },
  {
   "cell_type": "code",
   "execution_count": 14,
   "metadata": {},
   "outputs": [
    {
     "data": {
      "text/html": [
       "<div>\n",
       "<style scoped>\n",
       "    .dataframe tbody tr th:only-of-type {\n",
       "        vertical-align: middle;\n",
       "    }\n",
       "\n",
       "    .dataframe tbody tr th {\n",
       "        vertical-align: top;\n",
       "    }\n",
       "\n",
       "    .dataframe thead th {\n",
       "        text-align: right;\n",
       "    }\n",
       "</style>\n",
       "<table border=\"1\" class=\"dataframe\">\n",
       "  <thead>\n",
       "    <tr style=\"text-align: right;\">\n",
       "      <th></th>\n",
       "      <th>fixed_acidity</th>\n",
       "      <th>volatile_acidity</th>\n",
       "      <th>citric_acid</th>\n",
       "      <th>residual_sugar</th>\n",
       "      <th>chlorides</th>\n",
       "      <th>free_sulfur_dioxide</th>\n",
       "      <th>total_sulfur_dioxide</th>\n",
       "      <th>density</th>\n",
       "      <th>pH</th>\n",
       "      <th>sulphates</th>\n",
       "      <th>alcohol</th>\n",
       "      <th>quality</th>\n",
       "    </tr>\n",
       "  </thead>\n",
       "  <tbody>\n",
       "    <tr>\n",
       "      <th>count</th>\n",
       "      <td>4896.000000</td>\n",
       "      <td>4896.000000</td>\n",
       "      <td>4896.000000</td>\n",
       "      <td>4896.000000</td>\n",
       "      <td>4896.000000</td>\n",
       "      <td>4896.000000</td>\n",
       "      <td>4896.000000</td>\n",
       "      <td>4896.000000</td>\n",
       "      <td>4896.000000</td>\n",
       "      <td>4896.000000</td>\n",
       "      <td>4896.000000</td>\n",
       "      <td>4896.000000</td>\n",
       "    </tr>\n",
       "    <tr>\n",
       "      <th>mean</th>\n",
       "      <td>6.853094</td>\n",
       "      <td>0.278103</td>\n",
       "      <td>0.334105</td>\n",
       "      <td>6.380362</td>\n",
       "      <td>0.045768</td>\n",
       "      <td>35.314134</td>\n",
       "      <td>138.352635</td>\n",
       "      <td>0.994019</td>\n",
       "      <td>3.188233</td>\n",
       "      <td>0.489796</td>\n",
       "      <td>10.513905</td>\n",
       "      <td>5.880923</td>\n",
       "    </tr>\n",
       "    <tr>\n",
       "      <th>std</th>\n",
       "      <td>0.837375</td>\n",
       "      <td>0.100336</td>\n",
       "      <td>0.120964</td>\n",
       "      <td>5.000942</td>\n",
       "      <td>0.021848</td>\n",
       "      <td>17.006100</td>\n",
       "      <td>42.504872</td>\n",
       "      <td>0.002922</td>\n",
       "      <td>0.151003</td>\n",
       "      <td>0.114111</td>\n",
       "      <td>1.230727</td>\n",
       "      <td>0.871707</td>\n",
       "    </tr>\n",
       "    <tr>\n",
       "      <th>min</th>\n",
       "      <td>3.800000</td>\n",
       "      <td>0.080000</td>\n",
       "      <td>0.000000</td>\n",
       "      <td>0.600000</td>\n",
       "      <td>0.009000</td>\n",
       "      <td>2.000000</td>\n",
       "      <td>9.000000</td>\n",
       "      <td>0.987110</td>\n",
       "      <td>2.720000</td>\n",
       "      <td>0.220000</td>\n",
       "      <td>8.000000</td>\n",
       "      <td>4.000000</td>\n",
       "    </tr>\n",
       "    <tr>\n",
       "      <th>25%</th>\n",
       "      <td>6.300000</td>\n",
       "      <td>0.210000</td>\n",
       "      <td>0.270000</td>\n",
       "      <td>1.700000</td>\n",
       "      <td>0.036000</td>\n",
       "      <td>23.000000</td>\n",
       "      <td>108.000000</td>\n",
       "      <td>0.991720</td>\n",
       "      <td>3.090000</td>\n",
       "      <td>0.410000</td>\n",
       "      <td>9.500000</td>\n",
       "      <td>5.000000</td>\n",
       "    </tr>\n",
       "    <tr>\n",
       "      <th>50%</th>\n",
       "      <td>6.800000</td>\n",
       "      <td>0.260000</td>\n",
       "      <td>0.320000</td>\n",
       "      <td>5.200000</td>\n",
       "      <td>0.043000</td>\n",
       "      <td>34.000000</td>\n",
       "      <td>134.000000</td>\n",
       "      <td>0.993740</td>\n",
       "      <td>3.180000</td>\n",
       "      <td>0.470000</td>\n",
       "      <td>10.400000</td>\n",
       "      <td>6.000000</td>\n",
       "    </tr>\n",
       "    <tr>\n",
       "      <th>75%</th>\n",
       "      <td>7.300000</td>\n",
       "      <td>0.320000</td>\n",
       "      <td>0.390000</td>\n",
       "      <td>9.900000</td>\n",
       "      <td>0.050000</td>\n",
       "      <td>46.000000</td>\n",
       "      <td>167.000000</td>\n",
       "      <td>0.996100</td>\n",
       "      <td>3.280000</td>\n",
       "      <td>0.550000</td>\n",
       "      <td>11.400000</td>\n",
       "      <td>6.000000</td>\n",
       "    </tr>\n",
       "    <tr>\n",
       "      <th>max</th>\n",
       "      <td>11.800000</td>\n",
       "      <td>1.100000</td>\n",
       "      <td>1.660000</td>\n",
       "      <td>31.600000</td>\n",
       "      <td>0.346000</td>\n",
       "      <td>289.000000</td>\n",
       "      <td>440.000000</td>\n",
       "      <td>1.010300</td>\n",
       "      <td>3.820000</td>\n",
       "      <td>1.080000</td>\n",
       "      <td>14.200000</td>\n",
       "      <td>8.000000</td>\n",
       "    </tr>\n",
       "  </tbody>\n",
       "</table>\n",
       "</div>"
      ],
      "text/plain": [
       "       fixed_acidity  volatile_acidity  citric_acid  residual_sugar  \\\n",
       "count    4896.000000       4896.000000  4896.000000     4896.000000   \n",
       "mean        6.853094          0.278103     0.334105        6.380362   \n",
       "std         0.837375          0.100336     0.120964        5.000942   \n",
       "min         3.800000          0.080000     0.000000        0.600000   \n",
       "25%         6.300000          0.210000     0.270000        1.700000   \n",
       "50%         6.800000          0.260000     0.320000        5.200000   \n",
       "75%         7.300000          0.320000     0.390000        9.900000   \n",
       "max        11.800000          1.100000     1.660000       31.600000   \n",
       "\n",
       "         chlorides  free_sulfur_dioxide  total_sulfur_dioxide      density  \\\n",
       "count  4896.000000          4896.000000           4896.000000  4896.000000   \n",
       "mean      0.045768            35.314134            138.352635     0.994019   \n",
       "std       0.021848            17.006100             42.504872     0.002922   \n",
       "min       0.009000             2.000000              9.000000     0.987110   \n",
       "25%       0.036000            23.000000            108.000000     0.991720   \n",
       "50%       0.043000            34.000000            134.000000     0.993740   \n",
       "75%       0.050000            46.000000            167.000000     0.996100   \n",
       "max       0.346000           289.000000            440.000000     1.010300   \n",
       "\n",
       "                pH    sulphates      alcohol      quality  \n",
       "count  4896.000000  4896.000000  4896.000000  4896.000000  \n",
       "mean      3.188233     0.489796    10.513905     5.880923  \n",
       "std       0.151003     0.114111     1.230727     0.871707  \n",
       "min       2.720000     0.220000     8.000000     4.000000  \n",
       "25%       3.090000     0.410000     9.500000     5.000000  \n",
       "50%       3.180000     0.470000    10.400000     6.000000  \n",
       "75%       3.280000     0.550000    11.400000     6.000000  \n",
       "max       3.820000     1.080000    14.200000     8.000000  "
      ]
     },
     "execution_count": 14,
     "metadata": {},
     "output_type": "execute_result"
    }
   ],
   "source": [
    "# Descriptive statistics of our dataset after dropping outliers.\n",
    "\n",
    "data.describe()"
   ]
  },
  {
   "cell_type": "code",
   "execution_count": 15,
   "metadata": {},
   "outputs": [
    {
     "data": {
      "text/html": [
       "<div>\n",
       "<style scoped>\n",
       "    .dataframe tbody tr th:only-of-type {\n",
       "        vertical-align: middle;\n",
       "    }\n",
       "\n",
       "    .dataframe tbody tr th {\n",
       "        vertical-align: top;\n",
       "    }\n",
       "\n",
       "    .dataframe thead th {\n",
       "        text-align: right;\n",
       "    }\n",
       "</style>\n",
       "<table border=\"1\" class=\"dataframe\">\n",
       "  <thead>\n",
       "    <tr style=\"text-align: right;\">\n",
       "      <th></th>\n",
       "      <th>fixed_acidity</th>\n",
       "      <th>volatile_acidity</th>\n",
       "      <th>citric_acid</th>\n",
       "      <th>residual_sugar</th>\n",
       "      <th>chlorides</th>\n",
       "      <th>free_sulfur_dioxide</th>\n",
       "      <th>total_sulfur_dioxide</th>\n",
       "      <th>density</th>\n",
       "      <th>pH</th>\n",
       "      <th>sulphates</th>\n",
       "      <th>alcohol</th>\n",
       "      <th>quality</th>\n",
       "    </tr>\n",
       "  </thead>\n",
       "  <tbody>\n",
       "    <tr>\n",
       "      <th>fixed_acidity</th>\n",
       "      <td>1.000000</td>\n",
       "      <td>-0.024421</td>\n",
       "      <td>0.288859</td>\n",
       "      <td>0.090176</td>\n",
       "      <td>0.023695</td>\n",
       "      <td>-0.049188</td>\n",
       "      <td>0.090937</td>\n",
       "      <td>0.271537</td>\n",
       "      <td>-0.429184</td>\n",
       "      <td>-0.018478</td>\n",
       "      <td>-0.122933</td>\n",
       "      <td>-0.113318</td>\n",
       "    </tr>\n",
       "    <tr>\n",
       "      <th>volatile_acidity</th>\n",
       "      <td>-0.024421</td>\n",
       "      <td>1.000000</td>\n",
       "      <td>-0.153337</td>\n",
       "      <td>0.048893</td>\n",
       "      <td>0.069048</td>\n",
       "      <td>-0.095258</td>\n",
       "      <td>0.088986</td>\n",
       "      <td>0.006365</td>\n",
       "      <td>-0.033946</td>\n",
       "      <td>-0.038357</td>\n",
       "      <td>0.066710</td>\n",
       "      <td>-0.196670</td>\n",
       "    </tr>\n",
       "    <tr>\n",
       "      <th>citric_acid</th>\n",
       "      <td>0.288859</td>\n",
       "      <td>-0.153337</td>\n",
       "      <td>1.000000</td>\n",
       "      <td>0.090578</td>\n",
       "      <td>0.113987</td>\n",
       "      <td>0.094921</td>\n",
       "      <td>0.120879</td>\n",
       "      <td>0.146458</td>\n",
       "      <td>-0.164421</td>\n",
       "      <td>0.061490</td>\n",
       "      <td>-0.076346</td>\n",
       "      <td>-0.009893</td>\n",
       "    </tr>\n",
       "    <tr>\n",
       "      <th>residual_sugar</th>\n",
       "      <td>0.090176</td>\n",
       "      <td>0.048893</td>\n",
       "      <td>0.090578</td>\n",
       "      <td>1.000000</td>\n",
       "      <td>0.086758</td>\n",
       "      <td>0.307363</td>\n",
       "      <td>0.406103</td>\n",
       "      <td>0.833956</td>\n",
       "      <td>-0.200269</td>\n",
       "      <td>-0.031221</td>\n",
       "      <td>-0.459423</td>\n",
       "      <td>-0.100356</td>\n",
       "    </tr>\n",
       "    <tr>\n",
       "      <th>chlorides</th>\n",
       "      <td>0.023695</td>\n",
       "      <td>0.069048</td>\n",
       "      <td>0.113987</td>\n",
       "      <td>0.086758</td>\n",
       "      <td>1.000000</td>\n",
       "      <td>0.101851</td>\n",
       "      <td>0.198856</td>\n",
       "      <td>0.259302</td>\n",
       "      <td>-0.090847</td>\n",
       "      <td>0.016345</td>\n",
       "      <td>-0.360514</td>\n",
       "      <td>-0.210583</td>\n",
       "    </tr>\n",
       "    <tr>\n",
       "      <th>free_sulfur_dioxide</th>\n",
       "      <td>-0.049188</td>\n",
       "      <td>-0.095258</td>\n",
       "      <td>0.094921</td>\n",
       "      <td>0.307363</td>\n",
       "      <td>0.101851</td>\n",
       "      <td>1.000000</td>\n",
       "      <td>0.615870</td>\n",
       "      <td>0.306366</td>\n",
       "      <td>-0.000187</td>\n",
       "      <td>0.059840</td>\n",
       "      <td>-0.249870</td>\n",
       "      <td>0.013438</td>\n",
       "    </tr>\n",
       "    <tr>\n",
       "      <th>total_sulfur_dioxide</th>\n",
       "      <td>0.090937</td>\n",
       "      <td>0.088986</td>\n",
       "      <td>0.120879</td>\n",
       "      <td>0.406103</td>\n",
       "      <td>0.198856</td>\n",
       "      <td>0.615870</td>\n",
       "      <td>1.000000</td>\n",
       "      <td>0.541054</td>\n",
       "      <td>0.002204</td>\n",
       "      <td>0.134393</td>\n",
       "      <td>-0.449105</td>\n",
       "      <td>-0.173428</td>\n",
       "    </tr>\n",
       "    <tr>\n",
       "      <th>density</th>\n",
       "      <td>0.271537</td>\n",
       "      <td>0.006365</td>\n",
       "      <td>0.146458</td>\n",
       "      <td>0.833956</td>\n",
       "      <td>0.259302</td>\n",
       "      <td>0.306366</td>\n",
       "      <td>0.541054</td>\n",
       "      <td>1.000000</td>\n",
       "      <td>-0.100087</td>\n",
       "      <td>0.070850</td>\n",
       "      <td>-0.801878</td>\n",
       "      <td>-0.317576</td>\n",
       "    </tr>\n",
       "    <tr>\n",
       "      <th>pH</th>\n",
       "      <td>-0.429184</td>\n",
       "      <td>-0.033946</td>\n",
       "      <td>-0.164421</td>\n",
       "      <td>-0.200269</td>\n",
       "      <td>-0.090847</td>\n",
       "      <td>-0.000187</td>\n",
       "      <td>0.002204</td>\n",
       "      <td>-0.100087</td>\n",
       "      <td>1.000000</td>\n",
       "      <td>0.155577</td>\n",
       "      <td>0.121231</td>\n",
       "      <td>0.100073</td>\n",
       "    </tr>\n",
       "    <tr>\n",
       "      <th>sulphates</th>\n",
       "      <td>-0.018478</td>\n",
       "      <td>-0.038357</td>\n",
       "      <td>0.061490</td>\n",
       "      <td>-0.031221</td>\n",
       "      <td>0.016345</td>\n",
       "      <td>0.059840</td>\n",
       "      <td>0.134393</td>\n",
       "      <td>0.070850</td>\n",
       "      <td>0.155577</td>\n",
       "      <td>1.000000</td>\n",
       "      <td>-0.017829</td>\n",
       "      <td>0.054118</td>\n",
       "    </tr>\n",
       "    <tr>\n",
       "      <th>alcohol</th>\n",
       "      <td>-0.122933</td>\n",
       "      <td>0.066710</td>\n",
       "      <td>-0.076346</td>\n",
       "      <td>-0.459423</td>\n",
       "      <td>-0.360514</td>\n",
       "      <td>-0.249870</td>\n",
       "      <td>-0.449105</td>\n",
       "      <td>-0.801878</td>\n",
       "      <td>0.121231</td>\n",
       "      <td>-0.017829</td>\n",
       "      <td>1.000000</td>\n",
       "      <td>0.440408</td>\n",
       "    </tr>\n",
       "    <tr>\n",
       "      <th>quality</th>\n",
       "      <td>-0.113318</td>\n",
       "      <td>-0.196670</td>\n",
       "      <td>-0.009893</td>\n",
       "      <td>-0.100356</td>\n",
       "      <td>-0.210583</td>\n",
       "      <td>0.013438</td>\n",
       "      <td>-0.173428</td>\n",
       "      <td>-0.317576</td>\n",
       "      <td>0.100073</td>\n",
       "      <td>0.054118</td>\n",
       "      <td>0.440408</td>\n",
       "      <td>1.000000</td>\n",
       "    </tr>\n",
       "  </tbody>\n",
       "</table>\n",
       "</div>"
      ],
      "text/plain": [
       "                      fixed_acidity  volatile_acidity  citric_acid  \\\n",
       "fixed_acidity              1.000000         -0.024421     0.288859   \n",
       "volatile_acidity          -0.024421          1.000000    -0.153337   \n",
       "citric_acid                0.288859         -0.153337     1.000000   \n",
       "residual_sugar             0.090176          0.048893     0.090578   \n",
       "chlorides                  0.023695          0.069048     0.113987   \n",
       "free_sulfur_dioxide       -0.049188         -0.095258     0.094921   \n",
       "total_sulfur_dioxide       0.090937          0.088986     0.120879   \n",
       "density                    0.271537          0.006365     0.146458   \n",
       "pH                        -0.429184         -0.033946    -0.164421   \n",
       "sulphates                 -0.018478         -0.038357     0.061490   \n",
       "alcohol                   -0.122933          0.066710    -0.076346   \n",
       "quality                   -0.113318         -0.196670    -0.009893   \n",
       "\n",
       "                      residual_sugar  chlorides  free_sulfur_dioxide  \\\n",
       "fixed_acidity               0.090176   0.023695            -0.049188   \n",
       "volatile_acidity            0.048893   0.069048            -0.095258   \n",
       "citric_acid                 0.090578   0.113987             0.094921   \n",
       "residual_sugar              1.000000   0.086758             0.307363   \n",
       "chlorides                   0.086758   1.000000             0.101851   \n",
       "free_sulfur_dioxide         0.307363   0.101851             1.000000   \n",
       "total_sulfur_dioxide        0.406103   0.198856             0.615870   \n",
       "density                     0.833956   0.259302             0.306366   \n",
       "pH                         -0.200269  -0.090847            -0.000187   \n",
       "sulphates                  -0.031221   0.016345             0.059840   \n",
       "alcohol                    -0.459423  -0.360514            -0.249870   \n",
       "quality                    -0.100356  -0.210583             0.013438   \n",
       "\n",
       "                      total_sulfur_dioxide   density        pH  sulphates  \\\n",
       "fixed_acidity                     0.090937  0.271537 -0.429184  -0.018478   \n",
       "volatile_acidity                  0.088986  0.006365 -0.033946  -0.038357   \n",
       "citric_acid                       0.120879  0.146458 -0.164421   0.061490   \n",
       "residual_sugar                    0.406103  0.833956 -0.200269  -0.031221   \n",
       "chlorides                         0.198856  0.259302 -0.090847   0.016345   \n",
       "free_sulfur_dioxide               0.615870  0.306366 -0.000187   0.059840   \n",
       "total_sulfur_dioxide              1.000000  0.541054  0.002204   0.134393   \n",
       "density                           0.541054  1.000000 -0.100087   0.070850   \n",
       "pH                                0.002204 -0.100087  1.000000   0.155577   \n",
       "sulphates                         0.134393  0.070850  0.155577   1.000000   \n",
       "alcohol                          -0.449105 -0.801878  0.121231  -0.017829   \n",
       "quality                          -0.173428 -0.317576  0.100073   0.054118   \n",
       "\n",
       "                       alcohol   quality  \n",
       "fixed_acidity        -0.122933 -0.113318  \n",
       "volatile_acidity      0.066710 -0.196670  \n",
       "citric_acid          -0.076346 -0.009893  \n",
       "residual_sugar       -0.459423 -0.100356  \n",
       "chlorides            -0.360514 -0.210583  \n",
       "free_sulfur_dioxide  -0.249870  0.013438  \n",
       "total_sulfur_dioxide -0.449105 -0.173428  \n",
       "density              -0.801878 -0.317576  \n",
       "pH                    0.121231  0.100073  \n",
       "sulphates            -0.017829  0.054118  \n",
       "alcohol               1.000000  0.440408  \n",
       "quality               0.440408  1.000000  "
      ]
     },
     "execution_count": 15,
     "metadata": {},
     "output_type": "execute_result"
    }
   ],
   "source": [
    "#corelation.\n",
    "\n",
    "data.corr()"
   ]
  },
  {
   "cell_type": "code",
   "execution_count": 16,
   "metadata": {},
   "outputs": [
    {
     "data": {
      "text/plain": [
       "<matplotlib.axes._subplots.AxesSubplot at 0x239196ce0a0>"
      ]
     },
     "execution_count": 16,
     "metadata": {},
     "output_type": "execute_result"
    },
    {
     "data": {
      "image/png": "[encoded data removed]",
      "text/plain": [
       "<Figure size 432x288 with 1 Axes>"
      ]
     },
     "metadata": {
      "needs_background": "light"
     },
     "output_type": "display_data"
    }
   ],
   "source": [
    "#HeatMap for correlation.\n",
    "\n",
    "sns.heatmap(data.corr(), annot=True, cmap='coolwarm', fmt='.2g',  cbar=False)\n"
   ]
  },
  {
   "cell_type": "code",
   "execution_count": 17,
   "metadata": {},
   "outputs": [],
   "source": [
    "# feature selection using variance threshold.\n",
    "\n",
    "X = data.drop(columns = ['quality'])\n",
    "var_threshold = VarianceThreshold(threshold=.3)\n",
    "var_threshold.fit(X)\n",
    "X_var_threshold = X.iloc[:,var_threshold.get_support()]"
   ]
  },
  {
   "cell_type": "code",
   "execution_count": 18,
   "metadata": {
    "scrolled": true
   },
   "outputs": [
    {
     "name": "stdout",
     "output_type": "stream",
     "text": [
      "(4896, 5)\n"
     ]
    },
    {
     "data": {
      "text/html": [
       "<div>\n",
       "<style scoped>\n",
       "    .dataframe tbody tr th:only-of-type {\n",
       "        vertical-align: middle;\n",
       "    }\n",
       "\n",
       "    .dataframe tbody tr th {\n",
       "        vertical-align: top;\n",
       "    }\n",
       "\n",
       "    .dataframe thead th {\n",
       "        text-align: right;\n",
       "    }\n",
       "</style>\n",
       "<table border=\"1\" class=\"dataframe\">\n",
       "  <thead>\n",
       "    <tr style=\"text-align: right;\">\n",
       "      <th></th>\n",
       "      <th>fixed_acidity</th>\n",
       "      <th>residual_sugar</th>\n",
       "      <th>free_sulfur_dioxide</th>\n",
       "      <th>total_sulfur_dioxide</th>\n",
       "      <th>alcohol</th>\n",
       "    </tr>\n",
       "  </thead>\n",
       "  <tbody>\n",
       "    <tr>\n",
       "      <th>0</th>\n",
       "      <td>7.0</td>\n",
       "      <td>20.7</td>\n",
       "      <td>45.0</td>\n",
       "      <td>170.0</td>\n",
       "      <td>8.8</td>\n",
       "    </tr>\n",
       "    <tr>\n",
       "      <th>1</th>\n",
       "      <td>6.3</td>\n",
       "      <td>1.6</td>\n",
       "      <td>14.0</td>\n",
       "      <td>132.0</td>\n",
       "      <td>9.5</td>\n",
       "    </tr>\n",
       "    <tr>\n",
       "      <th>2</th>\n",
       "      <td>8.1</td>\n",
       "      <td>6.9</td>\n",
       "      <td>30.0</td>\n",
       "      <td>97.0</td>\n",
       "      <td>10.1</td>\n",
       "    </tr>\n",
       "    <tr>\n",
       "      <th>3</th>\n",
       "      <td>7.2</td>\n",
       "      <td>8.5</td>\n",
       "      <td>47.0</td>\n",
       "      <td>186.0</td>\n",
       "      <td>9.9</td>\n",
       "    </tr>\n",
       "    <tr>\n",
       "      <th>4</th>\n",
       "      <td>7.2</td>\n",
       "      <td>8.5</td>\n",
       "      <td>47.0</td>\n",
       "      <td>186.0</td>\n",
       "      <td>9.9</td>\n",
       "    </tr>\n",
       "  </tbody>\n",
       "</table>\n",
       "</div>"
      ],
      "text/plain": [
       "   fixed_acidity  residual_sugar  free_sulfur_dioxide  total_sulfur_dioxide  \\\n",
       "0            7.0            20.7                 45.0                 170.0   \n",
       "1            6.3             1.6                 14.0                 132.0   \n",
       "2            8.1             6.9                 30.0                  97.0   \n",
       "3            7.2             8.5                 47.0                 186.0   \n",
       "4            7.2             8.5                 47.0                 186.0   \n",
       "\n",
       "   alcohol  \n",
       "0      8.8  \n",
       "1      9.5  \n",
       "2     10.1  \n",
       "3      9.9  \n",
       "4      9.9  "
      ]
     },
     "execution_count": 18,
     "metadata": {},
     "output_type": "execute_result"
    }
   ],
   "source": [
    "#shape and attributes after feature selection.\n",
    "\n",
    "print(X_var_threshold.shape)\n",
    "X_var_threshold.head()"
   ]
  },
  {
   "cell_type": "code",
   "execution_count": 19,
   "metadata": {},
   "outputs": [],
   "source": [
    "# features and target columns.\n",
    "\n",
    "features = X_var_threshold\n",
    "target = data['quality']"
   ]
  },
  {
   "cell_type": "code",
   "execution_count": 20,
   "metadata": {},
   "outputs": [],
   "source": [
    "#split the transformed data into train and test datasets.\n",
    "\n",
    "X_train, X_test, Y_train, Y_test = train_test_split(features, target, test_size=0.25,random_state=42,stratify = target)"
   ]
  },
  {
   "cell_type": "code",
   "execution_count": 21,
   "metadata": {},
   "outputs": [
    {
     "name": "stdout",
     "output_type": "stream",
     "text": [
      "LogisticRegression()\n",
      "Training model score: 0.510\n",
      "Testing model score: 0.511\n",
      "\n",
      " -----------------------------------------------------------------------------------\n",
      "KNeighborsClassifier()\n",
      "Training model score: 0.681\n",
      "Testing model score: 0.497\n",
      "\n",
      " -----------------------------------------------------------------------------------\n",
      "DecisionTreeClassifier()\n",
      "Training model score: 1.000\n",
      "Testing model score: 0.575\n",
      "\n",
      " -----------------------------------------------------------------------------------\n",
      "GaussianNB()\n",
      "Training model score: 0.469\n",
      "Testing model score: 0.484\n",
      "\n",
      " -----------------------------------------------------------------------------------\n",
      "RandomForestClassifier(max_depth=3, n_estimators=2000)\n",
      "Training model score: 0.513\n",
      "Testing model score: 0.504\n",
      "\n",
      " -----------------------------------------------------------------------------------\n",
      "BaggingClassifier()\n",
      "Training model score: 0.981\n",
      "Testing model score: 0.624\n",
      "\n",
      " -----------------------------------------------------------------------------------\n",
      "AdaBoostClassifier()\n",
      "Training model score: 0.479\n",
      "Testing model score: 0.484\n",
      "\n",
      " -----------------------------------------------------------------------------------\n",
      "XGBClassifier(base_score=0.5, booster='gbtree', colsample_bylevel=1,\n",
      "              colsample_bynode=1, colsample_bytree=1, gamma=0, gpu_id=-1,\n",
      "              importance_type='gain', interaction_constraints='',\n",
      "              learning_rate=0.3, max_delta_step=0, max_depth=6,\n",
      "              min_child_weight=1, missing=nan, monotone_constraints='()',\n",
      "              n_estimators=100, n_jobs=0, num_parallel_tree=1,\n",
      "              objective='multi:softprob', random_state=0, reg_alpha=0,\n",
      "              reg_lambda=1, scale_pos_weight=None, subsample=1,\n",
      "              tree_method='exact', validate_parameters=1, verbosity=None)\n",
      "Training model score: 0.968\n",
      "Testing model score: 0.617\n",
      "\n",
      " -----------------------------------------------------------------------------------\n"
     ]
    }
   ],
   "source": [
    "# various classification techniques are used and model with best performance is selected as final model for prediction.\n",
    "# pipeline is used for scaling and fit the classification model.\n",
    "\n",
    "classification_techniques = [\n",
    "    LogisticRegression(),\n",
    "    KNeighborsClassifier(5),  \n",
    "    DecisionTreeClassifier(),    \n",
    "    GaussianNB(),\n",
    "    RandomForestClassifier(n_estimators = 2000,max_depth = 3),\n",
    "    BaggingClassifier(),\n",
    "    AdaBoostClassifier(),\n",
    "    XGBClassifier(learning_rate = 0.3)]\n",
    "\n",
    "for classifier_name in classification_techniques:\n",
    "    pipeline = Pipeline([ ('scaler', StandardScaler()),('classifier_name', classifier_name)])\n",
    "    pipeline.fit(X_train, Y_train)   \n",
    "    print(classifier_name)\n",
    "    print(\"Training model score: %.3f\" % pipeline.score(X_train, Y_train))\n",
    "    print(\"Testing model score: %.3f\" % pipeline.score(X_test, Y_test))\n",
    "    print(\"\\n -----------------------------------------------------------------------------------\")\n",
    "    "
   ]
  },
  {
   "cell_type": "markdown",
   "metadata": {},
   "source": [
    "Based on above result we can see XGB Classifier gave us the best result. \n",
    "\n",
    "NOTE : if we make some changes to hyper parameters in random forest it also gives the best accuracy \n",
    "      but we need to make estimators as 5000, but this is taking quite long and taking most of system resources, \n",
    "      One more problem is random forest is overfitting the data and using grid search to find out best parameters also didnt\n",
    "      work well. based on all this issues i am using XGB classifier as my model for prediction.\n"
   ]
  },
  {
   "cell_type": "code",
   "execution_count": 22,
   "metadata": {},
   "outputs": [
    {
     "name": "stdout",
     "output_type": "stream",
     "text": [
      "Fitting 3 folds for each of 10 candidates, totalling 30 fits\n",
      "[CV] min_child_weight=5, max_depth=4, learning_rate=0.5, gamma=0.1 ...\n"
     ]
    },
    {
     "name": "stderr",
     "output_type": "stream",
     "text": [
      "[Parallel(n_jobs=1)]: Using backend SequentialBackend with 1 concurrent workers.\n"
     ]
    },
    {
     "name": "stdout",
     "output_type": "stream",
     "text": [
      "[CV]  min_child_weight=5, max_depth=4, learning_rate=0.5, gamma=0.1, score=0.547, total=   0.3s\n",
      "[CV] min_child_weight=5, max_depth=4, learning_rate=0.5, gamma=0.1 ...\n"
     ]
    },
    {
     "name": "stderr",
     "output_type": "stream",
     "text": [
      "[Parallel(n_jobs=1)]: Done   1 out of   1 | elapsed:    0.2s remaining:    0.0s\n"
     ]
    },
    {
     "name": "stdout",
     "output_type": "stream",
     "text": [
      "[CV]  min_child_weight=5, max_depth=4, learning_rate=0.5, gamma=0.1, score=0.572, total=   0.3s\n",
      "[CV] min_child_weight=5, max_depth=4, learning_rate=0.5, gamma=0.1 ...\n"
     ]
    },
    {
     "name": "stderr",
     "output_type": "stream",
     "text": [
      "[Parallel(n_jobs=1)]: Done   2 out of   2 | elapsed:    0.5s remaining:    0.0s\n"
     ]
    },
    {
     "name": "stdout",
     "output_type": "stream",
     "text": [
      "[CV]  min_child_weight=5, max_depth=4, learning_rate=0.5, gamma=0.1, score=0.569, total=   0.3s\n",
      "[CV] min_child_weight=2, max_depth=4, learning_rate=0.1, gamma=0.2 ...\n",
      "[CV]  min_child_weight=2, max_depth=4, learning_rate=0.1, gamma=0.2, score=0.539, total=   0.3s\n",
      "[CV] min_child_weight=2, max_depth=4, learning_rate=0.1, gamma=0.2 ...\n",
      "[CV]  min_child_weight=2, max_depth=4, learning_rate=0.1, gamma=0.2, score=0.541, total=   0.3s\n",
      "[CV] min_child_weight=2, max_depth=4, learning_rate=0.1, gamma=0.2 ...\n",
      "[CV]  min_child_weight=2, max_depth=4, learning_rate=0.1, gamma=0.2, score=0.547, total=   0.3s\n",
      "[CV] min_child_weight=1, max_depth=3, learning_rate=0.2, gamma=0.1 ...\n",
      "[CV]  min_child_weight=1, max_depth=3, learning_rate=0.2, gamma=0.1, score=0.547, total=   0.2s\n",
      "[CV] min_child_weight=1, max_depth=3, learning_rate=0.2, gamma=0.1 ...\n",
      "[CV]  min_child_weight=1, max_depth=3, learning_rate=0.2, gamma=0.1, score=0.540, total=   0.2s\n",
      "[CV] min_child_weight=1, max_depth=3, learning_rate=0.2, gamma=0.1 ...\n",
      "[CV]  min_child_weight=1, max_depth=3, learning_rate=0.2, gamma=0.1, score=0.553, total=   0.2s\n",
      "[CV] min_child_weight=3, max_depth=6, learning_rate=0.1, gamma=0.2 ...\n",
      "[CV]  min_child_weight=3, max_depth=6, learning_rate=0.1, gamma=0.2, score=0.574, total=   0.5s\n",
      "[CV] min_child_weight=3, max_depth=6, learning_rate=0.1, gamma=0.2 ...\n",
      "[CV]  min_child_weight=3, max_depth=6, learning_rate=0.1, gamma=0.2, score=0.548, total=   0.6s\n",
      "[CV] min_child_weight=3, max_depth=6, learning_rate=0.1, gamma=0.2 ...\n",
      "[CV]  min_child_weight=3, max_depth=6, learning_rate=0.1, gamma=0.2, score=0.582, total=   0.6s\n",
      "[CV] min_child_weight=3, max_depth=9, learning_rate=0.1, gamma=0.8 ...\n",
      "[CV]  min_child_weight=3, max_depth=9, learning_rate=0.1, gamma=0.8, score=0.571, total=   0.9s\n",
      "[CV] min_child_weight=3, max_depth=9, learning_rate=0.1, gamma=0.8 ...\n",
      "[CV]  min_child_weight=3, max_depth=9, learning_rate=0.1, gamma=0.8, score=0.586, total=   0.8s\n",
      "[CV] min_child_weight=3, max_depth=9, learning_rate=0.1, gamma=0.8 ...\n",
      "[CV]  min_child_weight=3, max_depth=9, learning_rate=0.1, gamma=0.8, score=0.596, total=   0.8s\n",
      "[CV] min_child_weight=2, max_depth=9, learning_rate=0.5, gamma=0.2 ...\n",
      "[CV]  min_child_weight=2, max_depth=9, learning_rate=0.5, gamma=0.2, score=0.569, total=   0.7s\n",
      "[CV] min_child_weight=2, max_depth=9, learning_rate=0.5, gamma=0.2 ...\n",
      "[CV]  min_child_weight=2, max_depth=9, learning_rate=0.5, gamma=0.2, score=0.587, total=   0.7s\n",
      "[CV] min_child_weight=2, max_depth=9, learning_rate=0.5, gamma=0.2 ...\n",
      "[CV]  min_child_weight=2, max_depth=9, learning_rate=0.5, gamma=0.2, score=0.602, total=   0.6s\n",
      "[CV] min_child_weight=5, max_depth=4, learning_rate=0.1, gamma=0.3 ...\n",
      "[CV]  min_child_weight=5, max_depth=4, learning_rate=0.1, gamma=0.3, score=0.544, total=   0.3s\n",
      "[CV] min_child_weight=5, max_depth=4, learning_rate=0.1, gamma=0.3 ...\n",
      "[CV]  min_child_weight=5, max_depth=4, learning_rate=0.1, gamma=0.3, score=0.536, total=   0.3s\n",
      "[CV] min_child_weight=5, max_depth=4, learning_rate=0.1, gamma=0.3 ...\n",
      "[CV]  min_child_weight=5, max_depth=4, learning_rate=0.1, gamma=0.3, score=0.539, total=   0.3s\n",
      "[CV] min_child_weight=5, max_depth=4, learning_rate=0.1, gamma=0.0 ...\n",
      "[CV]  min_child_weight=5, max_depth=4, learning_rate=0.1, gamma=0.0, score=0.541, total=   0.6s\n",
      "[CV] min_child_weight=5, max_depth=4, learning_rate=0.1, gamma=0.0 ...\n",
      "[CV]  min_child_weight=5, max_depth=4, learning_rate=0.1, gamma=0.0, score=0.529, total=   0.6s\n",
      "[CV] min_child_weight=5, max_depth=4, learning_rate=0.1, gamma=0.0 ...\n",
      "[CV]  min_child_weight=5, max_depth=4, learning_rate=0.1, gamma=0.0, score=0.533, total=   0.5s\n",
      "[CV] min_child_weight=2, max_depth=9, learning_rate=0.2, gamma=0.3 ...\n",
      "[CV]  min_child_weight=2, max_depth=9, learning_rate=0.2, gamma=0.3, score=0.565, total=   0.9s\n",
      "[CV] min_child_weight=2, max_depth=9, learning_rate=0.2, gamma=0.3 ...\n",
      "[CV]  min_child_weight=2, max_depth=9, learning_rate=0.2, gamma=0.3, score=0.596, total=   0.7s\n",
      "[CV] min_child_weight=2, max_depth=9, learning_rate=0.2, gamma=0.3 ...\n",
      "[CV]  min_child_weight=2, max_depth=9, learning_rate=0.2, gamma=0.3, score=0.607, total=   0.7s\n",
      "[CV] min_child_weight=2, max_depth=6, learning_rate=0.3, gamma=0.2 ...\n",
      "[CV]  min_child_weight=2, max_depth=6, learning_rate=0.3, gamma=0.2, score=0.580, total=   0.7s\n",
      "[CV] min_child_weight=2, max_depth=6, learning_rate=0.3, gamma=0.2 ...\n",
      "[CV]  min_child_weight=2, max_depth=6, learning_rate=0.3, gamma=0.2, score=0.603, total=   0.6s\n",
      "[CV] min_child_weight=2, max_depth=6, learning_rate=0.3, gamma=0.2 ...\n",
      "[CV]  min_child_weight=2, max_depth=6, learning_rate=0.3, gamma=0.2, score=0.592, total=   0.4s\n"
     ]
    },
    {
     "name": "stderr",
     "output_type": "stream",
     "text": [
      "[Parallel(n_jobs=1)]: Done  30 out of  30 | elapsed:   15.4s finished\n"
     ]
    },
    {
     "name": "stdout",
     "output_type": "stream",
     "text": [
      "Training model score: 0.993\n",
      "Testing model score: 0.621\n"
     ]
    }
   ],
   "source": [
    "# XGB Classifier model tuning with parameters.\n",
    "xgb_parameters = {\n",
    "    \"learning_rate\" : [0.1,0.2,0.3,0.5,0.10],\n",
    "    \"max_depth\" : [3,4,6,7,8,9],\n",
    "    \"min_child_weight\" : [1,2,3,4,5,6],\n",
    "    \"gamma\" : [0.0,0.1,0.2,0.3,0.4,0.8]\n",
    "    }  \n",
    "\n",
    "classifier_model = xgboost.XGBClassifier()\n",
    "random_search = RandomizedSearchCV(classifier_model,param_distributions = xgb_parameters,cv = 3,verbose = 3)\n",
    "random_search.fit(X_train,Y_train)\n",
    "\n",
    "# listing out the best parameters.\n",
    "random_search.best_params_\n",
    "\n",
    "# finalizing the model and checking the accuracy again with best parameters.\n",
    "model_final = XGBClassifier(min_child_weight = 3,\n",
    "                            max_depth = 8,\n",
    "                            learning_rate = 0.3,\n",
    "                            gamma = 0.0,n_estimators=100)\n",
    "\n",
    "#fitting the model with training data.\n",
    "model_final.fit(X_train,Y_train)\n",
    "\n",
    "#printing training and testing accuracy.\n",
    "print(\"Training model score: %.3f\" % model_final.score(X_train, Y_train))\n",
    "print(\"Testing model score: %.3f\" % model_final.score(X_test, Y_test))"
   ]
  },
  {
   "cell_type": "code",
   "execution_count": 23,
   "metadata": {},
   "outputs": [
    {
     "data": {
      "text/plain": [
       "<matplotlib.axes._subplots.AxesSubplot at 0x2391b1104c0>"
      ]
     },
     "execution_count": 23,
     "metadata": {},
     "output_type": "execute_result"
    },
    {
     "data": {
      "image/png": "[encoded data removed]",
      "text/plain": [
       "<Figure size 432x288 with 1 Axes>"
      ]
     },
     "metadata": {
      "needs_background": "light"
     },
     "output_type": "display_data"
    }
   ],
   "source": [
    "# feature importance visualization.\n",
    "\n",
    "pd.Series(model_final.feature_importances_, index=X_train.columns).nlargest(5).plot(kind='barh')\n"
   ]
  },
  {
   "cell_type": "markdown",
   "metadata": {},
   "source": [
    "The above graph shows the feature importance of attributes after feature selection. alcohol has more weight when compared to \n",
    "other attributes followed by free sulfur dioxide, residual sugar, fixed acidity and total sulfur dioxide has least weight. "
   ]
  },
  {
   "cell_type": "code",
   "execution_count": 24,
   "metadata": {},
   "outputs": [
    {
     "name": "stdout",
     "output_type": "stream",
     "text": [
      "62.0 %\n"
     ]
    }
   ],
   "source": [
    "#predicting test dataset using XGB Classifier.\n",
    "y_pred = model_final.predict(X_test)\n",
    "\n",
    "#test accuracy\n",
    "print(round(accuracy_score(Y_test,y_pred),2) * 100,\"%\")\n"
   ]
  },
  {
   "cell_type": "code",
   "execution_count": 25,
   "metadata": {},
   "outputs": [
    {
     "name": "stdout",
     "output_type": "stream",
     "text": [
      "[[ 11  20  14   1   0]\n",
      " [  7 235 109  13   0]\n",
      " [  4 101 390  54   0]\n",
      " [  1  10  88 106  15]\n",
      " [  0   1  18   8  18]]\n"
     ]
    }
   ],
   "source": [
    "#Confusion Matrix\n",
    "\n",
    "print(confusion_matrix(Y_test,y_pred))\n"
   ]
  },
  {
   "cell_type": "code",
   "execution_count": 26,
   "metadata": {},
   "outputs": [
    {
     "name": "stdout",
     "output_type": "stream",
     "text": [
      "              precision    recall  f1-score   support\n",
      "\n",
      "           4       0.48      0.24      0.32        46\n",
      "           5       0.64      0.65      0.64       364\n",
      "           6       0.63      0.71      0.67       549\n",
      "           7       0.58      0.48      0.53       220\n",
      "           8       0.55      0.40      0.46        45\n",
      "\n",
      "    accuracy                           0.62      1224\n",
      "   macro avg       0.58      0.50      0.52      1224\n",
      "weighted avg       0.62      0.62      0.61      1224\n",
      "\n"
     ]
    }
   ],
   "source": [
    "#classification report\n",
    "\n",
    "print(classification_report(Y_test,y_pred))"
   ]
  },
  {
   "cell_type": "code",
   "execution_count": 27,
   "metadata": {
    "scrolled": true
   },
   "outputs": [
    {
     "data": {
      "text/plain": [
       "<matplotlib.axes._subplots.AxesSubplot at 0x2391b232bb0>"
      ]
     },
     "execution_count": 27,
     "metadata": {},
     "output_type": "execute_result"
    },
    {
     "data": {
      "image/png": "[encoded data removed]",
      "text/plain": [
       "<Figure size 432x288 with 1 Axes>"
      ]
     },
     "metadata": {},
     "output_type": "display_data"
    }
   ],
   "source": [
    "#confusion matrix.\n",
    "\n",
    "data_cm = confusion_matrix(Y_test, y_pred)\n",
    "df_cm = pd.DataFrame(data_cm, columns=np.unique(Y_test), index = np.unique(Y_test))\n",
    "df_cm.index.name = 'Actual'\n",
    "df_cm.columns.name = 'Predicted'\n",
    "\n",
    "sns.set(font_scale=1.2)\n",
    "sns.heatmap(df_cm, annot=True,annot_kws={\"size\": 12}, cbar=False,\n",
    "          vmax=20, square=True, fmt=\"d\", cmap=\"Greens\")"
   ]
  },
  {
   "cell_type": "markdown",
   "metadata": {},
   "source": [
    "our test dataset has \n",
    "- 46 records of class 4 and we predicted 20 correctly. \n",
    "- 364 records of class 5 and 235 are predicted correctly.\n",
    "- 549 records of class 6 and we predicted 390 records correctly. \n",
    "- 220 records of class 7 and 106 records are predicted correctly.\n",
    "- 45 records of class 8 and we predicted 18 records correctly"
   ]
  },
  {
   "cell_type": "markdown",
   "metadata": {},
   "source": [
    "# out of sample predictions."
   ]
  },
  {
   "cell_type": "code",
   "execution_count": 28,
   "metadata": {},
   "outputs": [
    {
     "name": "stdout",
     "output_type": "stream",
     "text": [
      "[ 7.    6.3   8.1   7.2   6.2   8.6   7.9   6.6   8.3   7.4   6.5   6.4\n",
      "  6.8   7.6   6.9   8.5   5.8   7.3   6.7   6.    7.1   6.1   7.5   9.8\n",
      "  5.5   5.9   7.8   5.7   8.2   5.6   5.2   8.4  10.2   7.7   5.3   5.4\n",
      "  9.1   5.    8.   10.    5.1   9.2   9.    8.8   8.7   4.8  10.3   9.4\n",
      "  9.6   9.3   8.9   9.7  10.7   9.9   9.5  11.8   4.6   6.15  4.5   7.15\n",
      "  6.45  4.2   4.9   4.7   3.8   4.4   3.9 ]\n",
      "[20.7   1.6   6.9   8.5   7.    1.5   1.45  4.2   1.2  19.25  1.1   7.5\n",
      "  2.9   1.7   1.3   9.    1.    8.7   2.   10.4   2.05 14.95  5.4  17.95\n",
      "  2.5   7.4   1.4   4.4   5.    0.9  11.9  12.4   4.6   4.9   6.4   2.1\n",
      " 10.1   7.8   4.8   8.8  16.    6.1   8.2  11.8  11.   13.3   1.8  15.9\n",
      " 10.5  13.5   9.6  12.1  18.9  14.4  16.5  18.75  9.2   3.3   5.7  12.2\n",
      "  6.85  7.6   2.8   2.7  13.1  15.8   8.1  15.7   1.9   2.2   4.3   5.2\n",
      "  4.1   8.   10.2  14.   14.5  13.    2.4   8.95  9.85  0.8   4.55 17.7\n",
      "  5.1  12.9   5.5  22.    9.4   3.8   3.6   3.5  16.1  13.2  13.9   2.3\n",
      " 11.6   8.3   6.2   9.7   5.3  17.5   9.5  17.8  10.3  14.3  15.55 13.7\n",
      " 11.2  16.2  19.45 13.6   7.1  10.7   8.9   9.1   4.7  15.6  15.4   7.2\n",
      " 14.2   5.8  19.8   7.3  10.6  11.3   6.8   6.7   3.7   6.6   7.7   7.85\n",
      "  9.3  15.15  6.3   9.9  12.3   3.   14.9  12.5   2.6   3.2   5.9   9.8\n",
      " 18.2   4.   18.95 12.7   8.6  20.8  15.2  10.   18.15 12.15  3.4   4.5\n",
      " 10.8  16.7   2.25 12.6  15.3  16.3   6.    7.9  11.4  17.75 10.9  16.8\n",
      " 18.05 11.5   3.1  12.    4.75 14.7  14.8  13.8   7.35 11.1  19.3  18.6\n",
      " 13.4  15.   14.1   6.5  12.8   5.6  11.75 17.45  7.05  6.35 16.95 17.1\n",
      "  8.4   1.95  5.85 14.35 12.85 16.85 14.45 14.75  1.15 17.55  5.15 14.6\n",
      " 17.35  3.75 17.    3.9  14.15 17.85  4.45  1.35 19.4   8.65 23.5  11.7\n",
      "  3.95 31.6  18.35  1.55 19.5   1.05 19.6   9.25  9.05 15.1  16.05 18.3\n",
      " 17.2  16.6  16.65  5.25 17.3   0.6   8.45 16.9  10.65  8.75 18.8  16.75\n",
      " 15.75 12.05 11.95 16.45 19.1  19.35  4.85 19.95 18.1   0.7  20.4   0.95\n",
      "  5.95  2.85  9.65 16.4   7.45 10.05  1.65 20.2   1.25  7.75  5.45 14.05\n",
      " 10.55  8.25 17.6   6.75 12.75  2.65  8.55  4.35  2.35 13.65  6.65 13.55\n",
      " 11.25  5.55  6.95  9.55 20.15 14.55 15.25  3.15 18.5   5.35  3.85  8.15\n",
      " 15.5  19.9   7.25  6.55 26.05 17.4  16.55  7.95 17.9  18.   13.15 20.3\n",
      " 11.45 17.05  9.15 22.6   1.75  4.25  1.85 12.55 18.4 ]\n",
      "[ 45.   14.   30.   47.   28.   11.   17.   16.   48.   41.   29.   34.\n",
      "  19.   25.   56.   35.   32.   37.   20.    7.   31.   43.   22.   21.\n",
      "  38.   63.   33.   62.   39.   50.   44.   27.   81.   50.5   9.   26.\n",
      "  51.   42.   54.   52.   55.   69.   65.   15.    4.   64.   60.   68.\n",
      "   8.   57.   40.   46.   59.   36.   49.   18.   24.   53.   23.   58.\n",
      "  12.   72.    5.   61.   66.   75.   76.   64.5   3.   82.   10.  131.\n",
      "  38.5  82.5  13.   87.   73.5  83.   67.   79.   70.    6.   77.  122.5\n",
      "  78.   11.5  80.   44.5  35.5  73.   71.   15.5  88.   77.5  41.5 118.5\n",
      "  96.   52.5 146.5  48.5 128.  110.   42.5  40.5  39.5  19.5  85.   74.\n",
      "  89.   86.   93.   30.5 138.5  95.  124.  105.  101.  108.    2.   79.5\n",
      "  61.5  98.  112.   51.5  70.5  23.5  59.5  28.5  60.5  43.5 289.   97. ]\n",
      "[170.  132.   97.  186.  136.  129.   63.  109.   75.  143.  172.  112.\n",
      "  99.  171.  133.  102.  122.  168.  142.  245.  146.  141.  114.   47.\n",
      " 100.  117.  179.  123.  149.  138.  158.  157.  160.  152.  154.  167.\n",
      " 206.  207.  150.  173.  124.   82.  108.  191.  213.  147.   78.  111.\n",
      " 151.  120.  174.   96.  105.  244.  238.5 201.   72.   87.   69.  103.\n",
      " 166.  164.  155.  156.  202.  243.  148.  240.   80.   83.  192.  162.\n",
      " 187.  163.  255.  195.   85.  196.  131.  126.  203.  184.   57.  241.\n",
      " 188.  121.   79.   77.  107.  116.  135.   76.  198.  119.  159.  205.\n",
      " 177.  197.   98.  110.  130.   65.  176.  183.  227.  226.  230.  210.\n",
      " 211.  125.  181.  180.  214.  204.  236.  134.  153.   68.  161.  144.\n",
      " 140.  145.  200.  272.  194.  208.  221.   90.  218.5 249.5 139.  199.\n",
      " 118.   95.  231.  234.  169.   60.   67.  190.  182.  175.   74.  127.\n",
      " 137.  313.  216.  101.   91.  128.   84.  113.  178.   89.  115.  260.\n",
      "  66.   93.  252.  222.  104.  249.   86.  165.   70.  189.   55.   41.\n",
      "  29.   61.   37.  185.   81.  106.   94.   64.  228.  234.5 224.  193.\n",
      " 225.  218.   49.   19.  253.  247.  238.   46.   92.  215.  220.  246.\n",
      " 229.  212.   73.   33.  242.  217.   30.   88.  233.   54.   62.  232.\n",
      "  26.  223.  219.  189.5 129.5  59.  217.5 251.  366.5  48.   51.  209.\n",
      "  24.   56.   53.  235.  248.   71.  307.5 256.  212.5 237.  344.  282.\n",
      " 219.5 216.5  28.  303.   45.   25.   58.   18.   21.   34.  294.   50.\n",
      "  31.    9.   40.   10.  176.5 115.5 259.  164.5 162.5 440.   44. ]\n",
      "[ 8.8         9.5        10.1         9.9         9.6        11.\n",
      " 12.          9.7        10.8        12.4        11.4        12.8\n",
      " 11.3        10.5         9.3        10.         10.4        11.6\n",
      " 12.3        10.2         9.         11.2         8.6         9.4\n",
      "  9.8        11.7        10.9         9.1         8.9        10.3\n",
      " 12.6        10.7        12.7        10.6         9.2         8.7\n",
      " 11.5        11.8        12.1        11.1         8.5        12.5\n",
      " 11.9        12.2        12.9        13.9        14.         13.5\n",
      " 13.3        13.2        13.7        13.4        13.          8.\n",
      " 13.1        13.6         8.4        14.2        11.94       12.89333333\n",
      " 11.46666667 10.98       10.03333333 11.43333333 10.53333333  9.53333333\n",
      " 10.93333333 11.36666667 11.33333333 11.06666667  9.73333333 11.05\n",
      "  9.75       11.35        9.55       10.55       11.45       14.05\n",
      " 12.33333333 12.75       13.8        12.15       13.05       11.26666667\n",
      " 10.56666667 11.73333333 11.75       10.65       10.96666667 10.13333333\n",
      " 10.15       10.46666667 11.63333333 12.25       11.85       11.65\n",
      " 13.55       13.13333333 11.95       12.06666667 11.55        9.63333333\n",
      " 12.05      ]\n"
     ]
    }
   ],
   "source": [
    "# Looking at unique values of each column to generate new test data from mix and matching values.\n",
    "for i in X_var_threshold.columns:\n",
    "    print(X_var_threshold[ i ].unique())"
   ]
  },
  {
   "cell_type": "code",
   "execution_count": 29,
   "metadata": {},
   "outputs": [],
   "source": [
    "#randomly selecting 5 values among unique values of all columns.\n",
    "\n",
    "newdata = {\n",
    "    \n",
    "'fixed_acidity'             : [10.0,4.4,5.3,8.2,2.0,5.5],\n",
    "'residual_sugar'            : [10.0,12.0,15.0,8.0,5.0,1.3],\n",
    "'free_sulfur_dioxide'       : [13.0,33.5,87.6,100.2,120.5,30],\n",
    "'total_sulfur_dioxide'      : [150.0,170.0,120.0,200.0,250.0,120],\n",
    "'alcohol'                   : [2.0,4.0,6.0,8.0,10.0,13.5]\n",
    "          }"
   ]
  },
  {
   "cell_type": "code",
   "execution_count": 30,
   "metadata": {},
   "outputs": [],
   "source": [
    "# preparing dataframe.\n",
    "df_test = pd.DataFrame(newdata)"
   ]
  },
  {
   "cell_type": "code",
   "execution_count": 31,
   "metadata": {},
   "outputs": [
    {
     "data": {
      "text/html": [
       "<div>\n",
       "<style scoped>\n",
       "    .dataframe tbody tr th:only-of-type {\n",
       "        vertical-align: middle;\n",
       "    }\n",
       "\n",
       "    .dataframe tbody tr th {\n",
       "        vertical-align: top;\n",
       "    }\n",
       "\n",
       "    .dataframe thead th {\n",
       "        text-align: right;\n",
       "    }\n",
       "</style>\n",
       "<table border=\"1\" class=\"dataframe\">\n",
       "  <thead>\n",
       "    <tr style=\"text-align: right;\">\n",
       "      <th></th>\n",
       "      <th>fixed_acidity</th>\n",
       "      <th>residual_sugar</th>\n",
       "      <th>free_sulfur_dioxide</th>\n",
       "      <th>total_sulfur_dioxide</th>\n",
       "      <th>alcohol</th>\n",
       "    </tr>\n",
       "  </thead>\n",
       "  <tbody>\n",
       "    <tr>\n",
       "      <th>0</th>\n",
       "      <td>10.0</td>\n",
       "      <td>10.0</td>\n",
       "      <td>13.0</td>\n",
       "      <td>150.0</td>\n",
       "      <td>2.0</td>\n",
       "    </tr>\n",
       "    <tr>\n",
       "      <th>1</th>\n",
       "      <td>4.4</td>\n",
       "      <td>12.0</td>\n",
       "      <td>33.5</td>\n",
       "      <td>170.0</td>\n",
       "      <td>4.0</td>\n",
       "    </tr>\n",
       "    <tr>\n",
       "      <th>2</th>\n",
       "      <td>5.3</td>\n",
       "      <td>15.0</td>\n",
       "      <td>87.6</td>\n",
       "      <td>120.0</td>\n",
       "      <td>6.0</td>\n",
       "    </tr>\n",
       "    <tr>\n",
       "      <th>3</th>\n",
       "      <td>8.2</td>\n",
       "      <td>8.0</td>\n",
       "      <td>100.2</td>\n",
       "      <td>200.0</td>\n",
       "      <td>8.0</td>\n",
       "    </tr>\n",
       "    <tr>\n",
       "      <th>4</th>\n",
       "      <td>2.0</td>\n",
       "      <td>5.0</td>\n",
       "      <td>120.5</td>\n",
       "      <td>250.0</td>\n",
       "      <td>10.0</td>\n",
       "    </tr>\n",
       "    <tr>\n",
       "      <th>5</th>\n",
       "      <td>5.5</td>\n",
       "      <td>1.3</td>\n",
       "      <td>30.0</td>\n",
       "      <td>120.0</td>\n",
       "      <td>13.5</td>\n",
       "    </tr>\n",
       "  </tbody>\n",
       "</table>\n",
       "</div>"
      ],
      "text/plain": [
       "   fixed_acidity  residual_sugar  free_sulfur_dioxide  total_sulfur_dioxide  \\\n",
       "0           10.0            10.0                 13.0                 150.0   \n",
       "1            4.4            12.0                 33.5                 170.0   \n",
       "2            5.3            15.0                 87.6                 120.0   \n",
       "3            8.2             8.0                100.2                 200.0   \n",
       "4            2.0             5.0                120.5                 250.0   \n",
       "5            5.5             1.3                 30.0                 120.0   \n",
       "\n",
       "   alcohol  \n",
       "0      2.0  \n",
       "1      4.0  \n",
       "2      6.0  \n",
       "3      8.0  \n",
       "4     10.0  \n",
       "5     13.5  "
      ]
     },
     "execution_count": 31,
     "metadata": {},
     "output_type": "execute_result"
    }
   ],
   "source": [
    "# test data.\n",
    "df_test"
   ]
  },
  {
   "cell_type": "code",
   "execution_count": 32,
   "metadata": {},
   "outputs": [],
   "source": [
    "#predicting the test dataset.\n",
    "\n",
    "y_pred_testdata = model_final.predict(df_test)"
   ]
  },
  {
   "cell_type": "code",
   "execution_count": 33,
   "metadata": {},
   "outputs": [
    {
     "data": {
      "text/plain": [
       "array([4, 5, 6, 5, 4, 6], dtype=int64)"
      ]
     },
     "execution_count": 33,
     "metadata": {},
     "output_type": "execute_result"
    }
   ],
   "source": [
    "#  predicted labels of testdata.\n",
    "\n",
    "y_pred_testdata"
   ]
  },
  {
   "cell_type": "code",
   "execution_count": 34,
   "metadata": {},
   "outputs": [
    {
     "name": "stdout",
     "output_type": "stream",
     "text": [
      "The prediction of record  1 is : 4\n",
      "The prediction of record  2 is : 5\n",
      "The prediction of record  3 is : 6\n",
      "The prediction of record  4 is : 5\n",
      "The prediction of record  5 is : 4\n",
      "The prediction of record  6 is : 6\n"
     ]
    }
   ],
   "source": [
    "# printing quality of wine as per test data attributes.\n",
    "\n",
    "for i,row in enumerate(y_pred_testdata):\n",
    "    print(\"The prediction of record \",i+1,\"is :\",row)"
   ]
  },
  {
   "cell_type": "code",
   "execution_count": null,
   "metadata": {},
   "outputs": [],
   "source": []
  }
 ],
 "metadata": {
  "kernelspec": {
   "display_name": "Python 3",
   "language": "python",
   "name": "python3"
  },
  "language_info": {
   "codemirror_mode": {
    "name": "ipython",
    "version": 3
   },
   "file_extension": ".py",
   "mimetype": "text/x-python",
   "name": "python",
   "nbconvert_exporter": "python",
   "pygments_lexer": "ipython3",
   "version": "3.8.3"
  }
 },
 "nbformat": 4,
 "nbformat_minor": 4
}
